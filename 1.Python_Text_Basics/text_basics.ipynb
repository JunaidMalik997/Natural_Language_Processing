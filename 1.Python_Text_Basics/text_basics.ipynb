{
 "cells": [
  {
   "cell_type": "code",
   "execution_count": 1,
   "metadata": {},
   "outputs": [
    {
     "name": "stdout",
     "output_type": "stream",
     "text": [
      "hello world\n"
     ]
    }
   ],
   "source": [
    "print(\"hello world\")"
   ]
  },
  {
   "cell_type": "code",
   "execution_count": 2,
   "metadata": {},
   "outputs": [
    {
     "data": {
      "text/plain": [
       "[('Author', 'Topic', 'Pages'),\n",
       " ('Twain', 'Rafting in water alone', 601),\n",
       " ('Feynman', 'Physics', 95),\n",
       " ('Hamilton', 'Mythology', 144)]"
      ]
     },
     "execution_count": 2,
     "metadata": {},
     "output_type": "execute_result"
    }
   ],
   "source": [
    "#formatting\n",
    "library = [('Author', 'Topic', 'Pages'), \n",
    "           ('Twain', 'Rafting in water alone', 601),\n",
    "           ('Feynman', 'Physics', 95),\n",
    "           ('Hamilton', 'Mythology', 144)]\n",
    "\n",
    "library"
   ]
  },
  {
   "cell_type": "code",
   "execution_count": 3,
   "metadata": {},
   "outputs": [
    {
     "name": "stdout",
     "output_type": "stream",
     "text": [
      "Author     Topic                          .....Pages\n",
      "Twain      Rafting in water alone         .......601\n",
      "Feynman    Physics                        ........95\n",
      "Hamilton   Mythology                      .......144\n"
     ]
    }
   ],
   "source": [
    "for author, topic, pages in library:                        #tuple unpacking\n",
    "    print(f\"{author:{10}} {topic:{30}} {pages:.>{10}}\")     #string formatting, defined spaces for each variable"
   ]
  },
  {
   "cell_type": "code",
   "execution_count": 4,
   "metadata": {},
   "outputs": [],
   "source": [
    " #date formatting\n",
    " from datetime import datetime"
   ]
  },
  {
   "cell_type": "code",
   "execution_count": 7,
   "metadata": {},
   "outputs": [
    {
     "data": {
      "text/plain": [
       "datetime.datetime(2019, 2, 28, 0, 0)"
      ]
     },
     "execution_count": 7,
     "metadata": {},
     "output_type": "execute_result"
    }
   ],
   "source": [
    "today = datetime(year=2019, month=2, day=28)\n",
    "today"
   ]
  },
  {
   "cell_type": "code",
   "execution_count": 8,
   "metadata": {},
   "outputs": [
    {
     "name": "stdout",
     "output_type": "stream",
     "text": [
      "February 28, 2019\n"
     ]
    }
   ],
   "source": [
    "print(f\"{today:%B %d, %Y}\")                #for formatting options go to strftime.org"
   ]
  },
  {
   "cell_type": "code",
   "execution_count": null,
   "metadata": {},
   "outputs": [],
   "source": []
  }
 ],
 "metadata": {
  "kernelspec": {
   "display_name": "Python 3",
   "language": "python",
   "name": "python3"
  },
  "language_info": {
   "codemirror_mode": {
    "name": "ipython",
    "version": 3
   },
   "file_extension": ".py",
   "mimetype": "text/x-python",
   "name": "python",
   "nbconvert_exporter": "python",
   "pygments_lexer": "ipython3",
   "version": "3.10.5"
  },
  "orig_nbformat": 4
 },
 "nbformat": 4,
 "nbformat_minor": 2
}
